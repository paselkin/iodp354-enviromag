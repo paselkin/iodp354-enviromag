{
 "cells": [
  {
   "cell_type": "code",
   "execution_count": null,
   "id": "ddbfd09b",
   "metadata": {},
   "outputs": [],
   "source": [
    "import iodp354_enviromag.hysttools as ht"
   ]
  }
 ],
 "metadata": {
  "kernelspec": {
   "display_name": "Python (pmagpy_env)",
   "language": "python",
   "name": "pmagpy_env"
  },
  "language_info": {
   "codemirror_mode": {
    "name": "ipython",
    "version": 3
   },
   "file_extension": ".py",
   "mimetype": "text/x-python",
   "name": "python",
   "nbconvert_exporter": "python",
   "pygments_lexer": "ipython3",
   "version": "3.7.16"
  }
 },
 "nbformat": 4,
 "nbformat_minor": 5
}
